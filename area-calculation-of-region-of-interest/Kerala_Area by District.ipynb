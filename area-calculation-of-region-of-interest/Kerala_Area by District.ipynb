{
 "cells": [
  {
   "cell_type": "code",
   "execution_count": 1,
   "metadata": {},
   "outputs": [],
   "source": [
    "import ee\n",
    "import pandas as pd\n",
    "import time\n",
    "import datetime\n",
    "import geemap\n",
    "import pprint\n",
    "import numpy as np\n",
    "\n",
    "Map = geemap.Map(height='800px')\n",
    "\n",
    "pp = pprint.PrettyPrinter(depth=4)"
   ]
  },
  {
   "cell_type": "code",
   "execution_count": 2,
   "metadata": {},
   "outputs": [
    {
     "data": {
      "text/html": [
       "<p>To authorize access needed by Earth Engine, open the following\n",
       "        URL in a web browser and follow the instructions:</p>\n",
       "        <p><a href=https://accounts.google.com/o/oauth2/auth?client_id=517222506229-vsmmajv00ul0bs7p89v5m89qs8eb9359.apps.googleusercontent.com&scope=https%3A%2F%2Fwww.googleapis.com%2Fauth%2Fearthengine+https%3A%2F%2Fwww.googleapis.com%2Fauth%2Fdevstorage.full_control&redirect_uri=urn%3Aietf%3Awg%3Aoauth%3A2.0%3Aoob&response_type=code&code_challenge=HH9l_-pOm0vbrMABtCV0IYIDbNPolRrFGGOYu2Xxceo&code_challenge_method=S256>https://accounts.google.com/o/oauth2/auth?client_id=517222506229-vsmmajv00ul0bs7p89v5m89qs8eb9359.apps.googleusercontent.com&scope=https%3A%2F%2Fwww.googleapis.com%2Fauth%2Fearthengine+https%3A%2F%2Fwww.googleapis.com%2Fauth%2Fdevstorage.full_control&redirect_uri=urn%3Aietf%3Awg%3Aoauth%3A2.0%3Aoob&response_type=code&code_challenge=HH9l_-pOm0vbrMABtCV0IYIDbNPolRrFGGOYu2Xxceo&code_challenge_method=S256</a></p>\n",
       "        <p>The authorization workflow will generate a code, which you\n",
       "        should paste in the box below</p>\n",
       "        "
      ],
      "text/plain": [
       "<IPython.core.display.HTML object>"
      ]
     },
     "metadata": {},
     "output_type": "display_data"
    },
    {
     "name": "stdout",
     "output_type": "stream",
     "text": [
      "Enter verification code: 4/1AfDhmrg4A7kK78XLH6bx4CAsX2jtHe79EMdiDkdSgy4YRVlt5-SAf4hlN2Q\n",
      "\n",
      "Successfully saved authorization token.\n"
     ]
    }
   ],
   "source": [
    "ee.Authenticate()"
   ]
  },
  {
   "cell_type": "code",
   "execution_count": 3,
   "metadata": {},
   "outputs": [
    {
     "name": "stdout",
     "output_type": "stream",
     "text": [
      "Google Earth Engine has initialized successfully!\n"
     ]
    }
   ],
   "source": [
    "try:    \n",
    "    ee.Initialize()\n",
    "    print('Google Earth Engine has initialized successfully!')\n",
    "except ee.EEException as e:\n",
    "    print('Google Earth Engine has failed to initialize!')\n",
    "except:\n",
    "    print(\"Unexpected error:\", sys.exc_info()[0])\n",
    "    raise"
   ]
  },
  {
   "cell_type": "code",
   "execution_count": 4,
   "metadata": {},
   "outputs": [],
   "source": [
    "modisLandcover = ee.ImageCollection(\"MODIS/006/MCD12Q1\")\n",
    "filtered = modisLandcover.filter(ee.Filter.date('2018-01-01', '2018-12-31'))\n",
    "landcover2018 = ee.Image(filtered.first())\n",
    "classified = landcover2018.select('LC_Type1')"
   ]
  },
  {
   "cell_type": "code",
   "execution_count": 6,
   "metadata": {},
   "outputs": [],
   "source": [
    "palette = ['05450a', '086a10', '54a708',\n",
    "                 '78d203', '009900', 'c6b044','dcd159', \n",
    "                 'dade48', 'fbff13', 'b6ff05', '27ff87',\n",
    "                 'c24f44', 'a5a5a5', 'ff6d4c', '69fff8',\n",
    "                 'f9ffa4', '1c0dff']\n",
    "\n",
    "Map.addLayer(classified, {'min':1, 'max':17, 'palette': palette}, 'MODIS Landcover 2018',0)\n",
    "#Map"
   ]
  },
  {
   "cell_type": "code",
   "execution_count": 7,
   "metadata": {},
   "outputs": [],
   "source": [
    "gaul = ee.FeatureCollection('FAO/GAUL_SIMPLIFIED_500m/2015/level2')\n",
    "kerala = gaul.filter(ee.Filter.eq('ADM1_NAME', 'Kerala'))\n",
    "Map.addLayer(kerala, {'color': 'purple'}, 'Admin2 Boundaries')\n",
    "Map.centerObject(kerala,8)\n",
    "#Map"
   ]
  },
  {
   "cell_type": "code",
   "execution_count": 8,
   "metadata": {},
   "outputs": [
    {
     "data": {
      "application/vnd.jupyter.widget-view+json": {
       "model_id": "70c898d6278a4470a6e23b154ff8a699",
       "version_major": 2,
       "version_minor": 0
      },
      "text/plain": [
       "Map(center=[10.448735297125276, 76.40719109837225], controls=(WidgetControl(options=['position'], widget=HBox(…"
      ]
     },
     "metadata": {},
     "output_type": "display_data"
    }
   ],
   "source": [
    "keralaLandcover = classified.clip(kerala)\n",
    "Map.addLayer(keralaLandcover, {'min':1, 'max':17, 'palette': palette}, 'Kerala Land Cover 2018')\n",
    "Map"
   ]
  },
  {
   "cell_type": "code",
   "execution_count": 9,
   "metadata": {},
   "outputs": [
    {
     "name": "stdout",
     "output_type": "stream",
     "text": [
      "{'1': 'Water',\n",
      " '10': 'Savannas',\n",
      " '11': 'Grasslands',\n",
      " '12': 'Permanent Wetlands',\n",
      " '13': 'Croplands',\n",
      " '14': 'Urban and Built-Up',\n",
      " '15': 'Cropland/Natural Vegetation Mosaic',\n",
      " '16': 'Snow and Ice',\n",
      " '17': 'Barren or Sparsely Vegetated',\n",
      " '2': 'Evergreen Needleleaf Forest',\n",
      " '3': 'Evergreen Broadleaf Forest',\n",
      " '4': 'Deciduous Needleleaf Forest',\n",
      " '5': 'Deciduous Broadleaf Forest',\n",
      " '6': 'Mixed Forests',\n",
      " '7': 'Closed Shrublands',\n",
      " '8': 'Open Shrublands',\n",
      " '9': 'Woody Savannas'}\n"
     ]
    }
   ],
   "source": [
    "# A new Dictionary with the actual class names, rather than class numbers\n",
    "newDict = ee.Dictionary({\n",
    "    1: 'Water',\n",
    "    2: 'Evergreen Needleleaf Forest',\n",
    "    3: 'Evergreen Broadleaf Forest' ,\n",
    "    4: 'Deciduous Needleleaf Forest',\n",
    "    5: 'Deciduous Broadleaf Forest',\n",
    "    6: 'Mixed Forests',\n",
    "    7: 'Closed Shrublands',\n",
    "    8: 'Open Shrublands',\n",
    "    9: 'Woody Savannas',\n",
    "    10: 'Savannas',\n",
    "    11: 'Grasslands',\n",
    "    12: 'Permanent Wetlands',\n",
    "    13: 'Croplands',\n",
    "    14: 'Urban and Built-Up',\n",
    "    15: 'Cropland/Natural Vegetation Mosaic',\n",
    "    16: 'Snow and Ice',\n",
    "    17: 'Barren or Sparsely Vegetated'\n",
    "})\n",
    "\n",
    "#pp.pprint(newDict.getInfo())"
   ]
  },
  {
   "cell_type": "code",
   "execution_count": 10,
   "metadata": {},
   "outputs": [],
   "source": [
    "def RenameClasses(areaDict,classNumber):\n",
    "    def GetNewClass(key,val):\n",
    "        newClass = newDict.get(classNumber)\n",
    "        return newClass\n",
    "\n",
    "    newClassDict = areaDict.map(GetNewClass)\n",
    "    newClassName = newClassDict.get('class')\n",
    "\n",
    "    return newClassName"
   ]
  },
  {
   "cell_type": "code",
   "execution_count": 11,
   "metadata": {},
   "outputs": [],
   "source": [
    "# function to get class names and get total area as a List of List\n",
    "# Note: dictionary key must be of type ‘string’. Our keys are class numbers, use \n",
    "# the format() method to convert the number to string\n",
    "def GetClassAreaLists(item):\n",
    "    areaDict = ee.Dictionary(item)\n",
    "    \n",
    "    classNumber = ee.Number(areaDict.get('class')).format()\n",
    "    area = ee.Number(areaDict.get('sum')).divide(1e6).round()\n",
    "       \n",
    "    newClassName = RenameClasses(areaDict,classNumber)\n",
    "    \n",
    "    return ee.List([newClassName, area])  # returns a nested list   \n"
   ]
  },
  {
   "cell_type": "code",
   "execution_count": 12,
   "metadata": {},
   "outputs": [],
   "source": [
    "# function to compute area covered by each class\n",
    "def ComputeAreaPerClass(areaImage,feature):\n",
    "    areas = areaImage.reduceRegion( **{\n",
    "        'reducer': ee.Reducer.sum().group( **{\n",
    "            'groupField': 1,\n",
    "            'groupName': 'class',\n",
    "        }),\n",
    "        'geometry': feature.geometry(),\n",
    "        'scale': 500,\n",
    "        'maxPixels': 1e10\n",
    "    })\n",
    "            \n",
    "    return areas"
   ]
  },
  {
   "cell_type": "code",
   "execution_count": 13,
   "metadata": {},
   "outputs": [],
   "source": [
    "# get the breakup of these classes by each district\n",
    "def CalculateClassArea(feature):\n",
    "    areaImage = ee.Image.pixelArea().addBands(classified)\n",
    "    areas = ComputeAreaPerClass(areaImage,feature)    \n",
    "    classAreas = ee.List(areas.get('groups'))\n",
    "    classAreaLists = classAreas.map(GetClassAreaLists)       \n",
    "    result = ee.Dictionary(classAreaLists.flatten())   \n",
    "       \n",
    "    # The result dictionary has area for all the classes\n",
    "    # Add the district name to the dictionary and create a feature\n",
    "    district = feature.get('ADM2_NAME')\n",
    "    district_name = result.set('District', district)   \n",
    "    \n",
    "    return ee.Feature(feature.geometry(),district_name)#feature.geometry(), )"
   ]
  },
  {
   "cell_type": "code",
   "execution_count": 14,
   "metadata": {},
   "outputs": [
    {
     "name": "stdout",
     "output_type": "stream",
     "text": [
      "{'geometry': {'geometries': [{'coordinates': [...], 'type': 'LineString'},\n",
      "                             {'coordinates': [...], 'type': 'LineString'},\n",
      "                             {'coordinates': [...], 'type': 'LineString'},\n",
      "                             {'coordinates': [...], 'type': 'LineString'},\n",
      "                             {'coordinates': [...], 'type': 'LineString'},\n",
      "                             {'coordinates': [...], 'type': 'LineString'},\n",
      "                             {'coordinates': [...], 'type': 'LineString'},\n",
      "                             {'coordinates': [...], 'type': 'Polygon'}],\n",
      "              'type': 'GeometryCollection'},\n",
      " 'id': '00010000000000000e0e',\n",
      " 'properties': {'Barren or Sparsely Vegetated': 24,\n",
      "                'Croplands': 8,\n",
      "                'District': 'Kannur',\n",
      "                'Evergreen Needleleaf Forest': 276,\n",
      "                'Grasslands': 24,\n",
      "                'Open Shrublands': 2081,\n",
      "                'Permanent Wetlands': 6,\n",
      "                'Savannas': 23,\n",
      "                'Urban and Built-Up': 291,\n",
      "                'Woody Savannas': 67},\n",
      " 'type': 'Feature'}\n"
     ]
    }
   ],
   "source": [
    "districtAreas_fc = kerala.map(CalculateClassArea)\n",
    "#pp.pprint(districtAreas_fc.first().getInfo())"
   ]
  },
  {
   "cell_type": "code",
   "execution_count": 15,
   "metadata": {},
   "outputs": [
    {
     "name": "stdout",
     "output_type": "stream",
     "text": [
      "['District', 'Water', 'Savannas', 'Grasslands', 'Permanent Wetlands', 'Croplands', 'Urban and Built-Up', 'Cropland/Natural Vegetation Mosaic', 'Snow and Ice', 'Barren or Sparsely Vegetated', 'Evergreen Needleleaf Forest', 'Evergreen Broadleaf Forest', 'Deciduous Needleleaf Forest', 'Deciduous Broadleaf Forest', 'Mixed Forests', 'Closed Shrublands', 'Open Shrublands', 'Woody Savannas']\n"
     ]
    }
   ],
   "source": [
    "new_classes = newDict.values()\n",
    "#print(new_classes.getInfo())\n",
    "\n",
    "outputFields = ee.List(['District']).cat(new_classes).getInfo()\n",
    "#print(outputFields)"
   ]
  },
  {
   "cell_type": "code",
   "execution_count": null,
   "metadata": {},
   "outputs": [],
   "source": [
    " task = ee.batch.Export.table.toDrive( **{\n",
    "    'collection': districtAreas_fc, \n",
    "    'folder': 'IWMI', \n",
    "    'description':'Kerala_class_area_by_district', \n",
    "    'fileNamePrefix': 'Kerala_',\n",
    "    'fileFormat':'CSV', \n",
    "    'selectors': outputFields\n",
    " })\n",
    "task.start()\n",
    "\n",
    "while task.active():\n",
    "  print('Exporting task id: {}.'.format(task.id))\n",
    "  time.sleep(5)\n",
    "    \n",
    "#pp.pprint(task.status())\n",
    "\n",
    "print(\"\\n\",'Exporting ', task.status().get('state'))\n"
   ]
  },
  {
   "cell_type": "markdown",
   "metadata": {},
   "source": [
    "Make a DataFrame"
   ]
  },
  {
   "cell_type": "code",
   "execution_count": 37,
   "metadata": {},
   "outputs": [],
   "source": [
    "def ToDict(fc):\n",
    "    property_names = fc.first().propertyNames()\n",
    "    property_value_lists = fc.reduceColumns(   # make a list for each feature (.repeat explicitly for each feature)\n",
    "                                 reducer=ee.Reducer.toList().repeat(property_names.size()),\n",
    "                                 selectors=property_names) \\\n",
    "                              .get('list')\n",
    "\n",
    "    return ee.Dictionary.fromLists(property_names, property_value_lists)\n",
    "\n",
    "districtAreas_dict = ToDict(districtAreas_fc).getInfo()\n",
    "#pp.pprint(districtAreas_dict)\n",
    "\n",
    "pop=districtAreas_dict.pop('system:index')"
   ]
  },
  {
   "cell_type": "code",
   "execution_count": 38,
   "metadata": {},
   "outputs": [
    {
     "data": {
      "text/html": [
       "<div>\n",
       "<style scoped>\n",
       "    .dataframe tbody tr th:only-of-type {\n",
       "        vertical-align: middle;\n",
       "    }\n",
       "\n",
       "    .dataframe tbody tr th {\n",
       "        vertical-align: top;\n",
       "    }\n",
       "\n",
       "    .dataframe thead th {\n",
       "        text-align: right;\n",
       "    }\n",
       "</style>\n",
       "<table border=\"1\" class=\"dataframe\">\n",
       "  <thead>\n",
       "    <tr style=\"text-align: right;\">\n",
       "      <th></th>\n",
       "      <th>District</th>\n",
       "      <th>Barren or Sparsely Vegetated</th>\n",
       "      <th>Croplands</th>\n",
       "      <th>Evergreen Needleleaf Forest</th>\n",
       "      <th>Grasslands</th>\n",
       "      <th>Open Shrublands</th>\n",
       "      <th>Permanent Wetlands</th>\n",
       "      <th>Savannas</th>\n",
       "      <th>Urban and Built-Up</th>\n",
       "      <th>Woody Savannas</th>\n",
       "    </tr>\n",
       "  </thead>\n",
       "  <tbody>\n",
       "    <tr>\n",
       "      <th>1</th>\n",
       "      <td>Kannur</td>\n",
       "      <td>24</td>\n",
       "      <td>8</td>\n",
       "      <td>276</td>\n",
       "      <td>24</td>\n",
       "      <td>2081</td>\n",
       "      <td>6</td>\n",
       "      <td>23</td>\n",
       "      <td>291</td>\n",
       "      <td>67</td>\n",
       "    </tr>\n",
       "    <tr>\n",
       "      <th>2</th>\n",
       "      <td>Ernakulam</td>\n",
       "      <td>71</td>\n",
       "      <td>117</td>\n",
       "      <td>87</td>\n",
       "      <td>82</td>\n",
       "      <td>1134</td>\n",
       "      <td>8</td>\n",
       "      <td>2</td>\n",
       "      <td>692</td>\n",
       "      <td>108</td>\n",
       "    </tr>\n",
       "    <tr>\n",
       "      <th>3</th>\n",
       "      <td>Idukki</td>\n",
       "      <td>15</td>\n",
       "      <td>2</td>\n",
       "      <td>1764</td>\n",
       "      <td>7</td>\n",
       "      <td>2997</td>\n",
       "      <td>2</td>\n",
       "      <td>59</td>\n",
       "      <td>8</td>\n",
       "      <td>133</td>\n",
       "    </tr>\n",
       "    <tr>\n",
       "      <th>4</th>\n",
       "      <td>Kasaragod</td>\n",
       "      <td>19</td>\n",
       "      <td>1</td>\n",
       "      <td>123</td>\n",
       "      <td>14</td>\n",
       "      <td>881</td>\n",
       "      <td>5</td>\n",
       "      <td>12</td>\n",
       "      <td>689</td>\n",
       "      <td>219</td>\n",
       "    </tr>\n",
       "    <tr>\n",
       "      <th>5</th>\n",
       "      <td>Kottayam</td>\n",
       "      <td>43</td>\n",
       "      <td>10</td>\n",
       "      <td>62</td>\n",
       "      <td>77</td>\n",
       "      <td>1524</td>\n",
       "      <td>66</td>\n",
       "      <td>26</td>\n",
       "      <td>302</td>\n",
       "      <td>23</td>\n",
       "    </tr>\n",
       "    <tr>\n",
       "      <th>6</th>\n",
       "      <td>Kozhikode</td>\n",
       "      <td>19</td>\n",
       "      <td>12</td>\n",
       "      <td>291</td>\n",
       "      <td>38</td>\n",
       "      <td>1619</td>\n",
       "      <td>16</td>\n",
       "      <td>22</td>\n",
       "      <td>258</td>\n",
       "      <td>21</td>\n",
       "    </tr>\n",
       "    <tr>\n",
       "      <th>7</th>\n",
       "      <td>Malappuram</td>\n",
       "      <td>11</td>\n",
       "      <td>13</td>\n",
       "      <td>475</td>\n",
       "      <td>37</td>\n",
       "      <td>1160</td>\n",
       "      <td>764</td>\n",
       "      <td>6</td>\n",
       "      <td>1588</td>\n",
       "      <td>179</td>\n",
       "    </tr>\n",
       "    <tr>\n",
       "      <th>8</th>\n",
       "      <td>Palakkad</td>\n",
       "      <td>9</td>\n",
       "      <td>30</td>\n",
       "      <td>818</td>\n",
       "      <td>5</td>\n",
       "      <td>891</td>\n",
       "      <td>13</td>\n",
       "      <td>27</td>\n",
       "      <td>1592</td>\n",
       "      <td>187</td>\n",
       "    </tr>\n",
       "    <tr>\n",
       "      <th>9</th>\n",
       "      <td>Pattanamtitta</td>\n",
       "      <td>2</td>\n",
       "      <td>7</td>\n",
       "      <td>1226</td>\n",
       "      <td>1</td>\n",
       "      <td>1118</td>\n",
       "      <td>0</td>\n",
       "      <td>2</td>\n",
       "      <td>199</td>\n",
       "      <td>33</td>\n",
       "    </tr>\n",
       "    <tr>\n",
       "      <th>10</th>\n",
       "      <td>Kollam</td>\n",
       "      <td>24</td>\n",
       "      <td>24</td>\n",
       "      <td>599</td>\n",
       "      <td>48</td>\n",
       "      <td>1240</td>\n",
       "      <td>88</td>\n",
       "      <td>2</td>\n",
       "      <td>323</td>\n",
       "      <td>88</td>\n",
       "    </tr>\n",
       "    <tr>\n",
       "      <th>11</th>\n",
       "      <td>Thrissur</td>\n",
       "      <td>27</td>\n",
       "      <td>34</td>\n",
       "      <td>597</td>\n",
       "      <td>29</td>\n",
       "      <td>594</td>\n",
       "      <td>1</td>\n",
       "      <td>4</td>\n",
       "      <td>1248</td>\n",
       "      <td>320</td>\n",
       "    </tr>\n",
       "    <tr>\n",
       "      <th>12</th>\n",
       "      <td>Thiruvananthapuram</td>\n",
       "      <td>14</td>\n",
       "      <td>82</td>\n",
       "      <td>341</td>\n",
       "      <td>11</td>\n",
       "      <td>1166</td>\n",
       "      <td>31</td>\n",
       "      <td>5</td>\n",
       "      <td>390</td>\n",
       "      <td>32</td>\n",
       "    </tr>\n",
       "    <tr>\n",
       "      <th>13</th>\n",
       "      <td>Wayanad</td>\n",
       "      <td>119</td>\n",
       "      <td>3</td>\n",
       "      <td>411</td>\n",
       "      <td>2</td>\n",
       "      <td>1165</td>\n",
       "      <td>112</td>\n",
       "      <td>3</td>\n",
       "      <td>258</td>\n",
       "      <td>36</td>\n",
       "    </tr>\n",
       "    <tr>\n",
       "      <th>14</th>\n",
       "      <td>Alappuzha</td>\n",
       "      <td>None</td>\n",
       "      <td>12</td>\n",
       "      <td>2</td>\n",
       "      <td>162</td>\n",
       "      <td>264</td>\n",
       "      <td>None</td>\n",
       "      <td>11</td>\n",
       "      <td>520</td>\n",
       "      <td>113</td>\n",
       "    </tr>\n",
       "  </tbody>\n",
       "</table>\n",
       "</div>"
      ],
      "text/plain": [
       "              District Barren or Sparsely Vegetated Croplands  \\\n",
       "1               Kannur                           24         8   \n",
       "2            Ernakulam                           71       117   \n",
       "3               Idukki                           15         2   \n",
       "4            Kasaragod                           19         1   \n",
       "5             Kottayam                           43        10   \n",
       "6            Kozhikode                           19        12   \n",
       "7           Malappuram                           11        13   \n",
       "8             Palakkad                            9        30   \n",
       "9        Pattanamtitta                            2         7   \n",
       "10              Kollam                           24        24   \n",
       "11            Thrissur                           27        34   \n",
       "12  Thiruvananthapuram                           14        82   \n",
       "13             Wayanad                          119         3   \n",
       "14           Alappuzha                         None        12   \n",
       "\n",
       "   Evergreen Needleleaf Forest Grasslands Open Shrublands Permanent Wetlands  \\\n",
       "1                          276         24            2081                  6   \n",
       "2                           87         82            1134                  8   \n",
       "3                         1764          7            2997                  2   \n",
       "4                          123         14             881                  5   \n",
       "5                           62         77            1524                 66   \n",
       "6                          291         38            1619                 16   \n",
       "7                          475         37            1160                764   \n",
       "8                          818          5             891                 13   \n",
       "9                         1226          1            1118                  0   \n",
       "10                         599         48            1240                 88   \n",
       "11                         597         29             594                  1   \n",
       "12                         341         11            1166                 31   \n",
       "13                         411          2            1165                112   \n",
       "14                           2        162             264               None   \n",
       "\n",
       "   Savannas Urban and Built-Up Woody Savannas  \n",
       "1        23                291             67  \n",
       "2         2                692            108  \n",
       "3        59                  8            133  \n",
       "4        12                689            219  \n",
       "5        26                302             23  \n",
       "6        22                258             21  \n",
       "7         6               1588            179  \n",
       "8        27               1592            187  \n",
       "9         2                199             33  \n",
       "10        2                323             88  \n",
       "11        4               1248            320  \n",
       "12        5                390             32  \n",
       "13        3                258             36  \n",
       "14       11                520            113  "
      ]
     },
     "execution_count": 38,
     "metadata": {},
     "output_type": "execute_result"
    }
   ],
   "source": [
    "df = pd.DataFrame.from_dict(districtAreas_dict, orient='index').T\n",
    "\n",
    "# index from 1\n",
    "df.index = np.arange( 1, len(df) + 1)\n",
    "\n",
    "# District as first column\n",
    "cols = ['District']  + [col for col in df if col != 'District']\n",
    "df = df[cols]\n",
    "\n",
    "df"
   ]
  }
 ],
 "metadata": {
  "kernelspec": {
   "display_name": "Python 3",
   "language": "python",
   "name": "python3"
  },
  "language_info": {
   "codemirror_mode": {
    "name": "ipython",
    "version": 3
   },
   "file_extension": ".py",
   "mimetype": "text/x-python",
   "name": "python",
   "nbconvert_exporter": "python",
   "pygments_lexer": "ipython3",
   "version": "3.7.8"
  }
 },
 "nbformat": 4,
 "nbformat_minor": 4
}
